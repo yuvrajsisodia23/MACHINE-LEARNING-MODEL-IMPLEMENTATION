{
 "cells": [
  {
   "cell_type": "code",
   "execution_count": 1,
   "id": "d7126b05",
   "metadata": {},
   "outputs": [],
   "source": [
    "# Import necessary libraries\n",
    "import numpy as np\n",
    "import pandas as pd\n",
    "import urllib.request\n",
    "import zipfile\n",
    "from sklearn.feature_extraction.text import CountVectorizer, TfidfTransformer\n",
    "from sklearn.model_selection import train_test_split\n",
    "from sklearn.naive_bayes import MultinomialNB\n",
    "from sklearn.pipeline import Pipeline\n",
    "from sklearn.metrics import accuracy_score, confusion_matrix, classification_report\n",
    "import matplotlib.pyplot as plt\n",
    "import seaborn as sns\n",
    "\n"
   ]
  },
  {
   "cell_type": "code",
   "execution_count": 2,
   "id": "eac17e0a",
   "metadata": {},
   "outputs": [
    {
     "name": "stdout",
     "output_type": "stream",
     "text": [
      "Downloading dataset...\n",
      "Dataset downloaded and extracted successfully!\n",
      "\n",
      "Dataset preview:\n",
      "  label                                               text\n",
      "0   ham  Go until jurong point, crazy.. Available only ...\n",
      "1   ham                      Ok lar... Joking wif u oni...\n",
      "2  spam  Free entry in 2 a wkly comp to win FA Cup fina...\n",
      "3   ham  U dun say so early hor... U c already then say...\n",
      "4   ham  Nah I don't think he goes to usf, he lives aro...\n",
      "\n",
      "Label distribution:\n",
      "label\n",
      "ham     4825\n",
      "spam     747\n",
      "Name: count, dtype: int64\n"
     ]
    }
   ],
   "source": [
    "# Download and extract the dataset\n",
    "def download_dataset():\n",
    "    # URL for the SMS Spam Collection dataset\n",
    "    url = \"https://archive.ics.uci.edu/ml/machine-learning-databases/00228/smsspamcollection.zip\"\n",
    "    file_name = \"smsspamcollection.zip\"\n",
    "    \n",
    "    # Download the file\n",
    "    print(\"Downloading dataset...\")\n",
    "    urllib.request.urlretrieve(url, file_name)\n",
    "    \n",
    "    # Extract the zip file\n",
    "    with zipfile.ZipFile(file_name, 'r') as zip_ref:\n",
    "        zip_ref.extractall()\n",
    "    print(\"Dataset downloaded and extracted successfully!\")\n",
    "    \n",
    "    # Read the dataset\n",
    "    df = pd.read_csv('SMSSpamCollection', sep='\\t', header=None, names=['label', 'text'])\n",
    "    return df\n",
    "\n",
    "# Download and load the dataset\n",
    "try:\n",
    "    df = download_dataset()\n",
    "except Exception as e:\n",
    "    print(f\"Error downloading dataset: {e}\")\n",
    "    print(\"Using local file if available...\")\n",
    "    try:\n",
    "        df = pd.read_csv('SMSSpamCollection', sep='\\t', header=None, names=['label', 'text'])\n",
    "    except:\n",
    "        print(\"Could not load dataset. Please check your internet connection or download it manually from:\")\n",
    "        print(\"https://archive.ics.uci.edu/ml/machine-learning-databases/00228/smsspamcollection.zip\")\n",
    "        exit()\n",
    "\n",
    "# Explore the dataset\n",
    "print(\"\\nDataset preview:\")\n",
    "print(df.head())\n",
    "print(\"\\nLabel distribution:\")\n",
    "print(df['label'].value_counts())\n",
    "\n"
   ]
  },
  {
   "cell_type": "code",
   "execution_count": 3,
   "id": "00934cba",
   "metadata": {},
   "outputs": [],
   "source": [
    "# Preprocess the data\n",
    "# Convert labels to binary (0 for ham, 1 for spam)\n",
    "df['label'] = df['label'].map({'ham': 0, 'spam': 1})\n",
    "\n",
    "# Convert text to lowercase and remove special characters\n",
    "df['text'] = df['text'].str.lower()\n",
    "df['text'] = df['text'].str.replace(r'[^a-zA-Z0-9\\s]', '', regex=True)\n",
    "\n",
    "# Split the data into features (X) and labels (y)\n",
    "X = df['text']\n",
    "y = df['label']\n",
    "\n"
   ]
  },
  {
   "cell_type": "code",
   "execution_count": 4,
   "id": "50694452",
   "metadata": {},
   "outputs": [],
   "source": [
    "# Split into training and testing sets (80% train, 20% test)\n",
    "X_train, X_test, y_train, y_test = train_test_split(X, y, test_size=0.2, random_state=42)\n",
    "\n",
    "# Create a pipeline for text processing and modeling\n",
    "# This does: \n",
    "# 1. Count word occurrences (CountVectorizer)\n",
    "# 2. Transform counts to weighted TF-IDF scores (TfidfTransformer)\n",
    "# 3. Train a Naive Bayes classifier (MultinomialNB)\n",
    "pipeline = Pipeline([\n",
    "    ('vect', CountVectorizer(stop_words='english', max_features=5000)),\n",
    "    ('tfidf', TfidfTransformer()),\n",
    "    ('clf', MultinomialNB()),\n",
    "])\n",
    "\n"
   ]
  },
  {
   "cell_type": "code",
   "execution_count": 5,
   "id": "2bd6c9c2",
   "metadata": {},
   "outputs": [
    {
     "name": "stdout",
     "output_type": "stream",
     "text": [
      "\n",
      "Training model...\n",
      "\n",
      "Model Accuracy: 0.9785\n",
      "\n",
      "Confusion Matrix:\n",
      "[[966   0]\n",
      " [ 24 125]]\n",
      "\n",
      "Classification Report:\n",
      "              precision    recall  f1-score   support\n",
      "\n",
      "           0       0.98      1.00      0.99       966\n",
      "           1       1.00      0.84      0.91       149\n",
      "\n",
      "    accuracy                           0.98      1115\n",
      "   macro avg       0.99      0.92      0.95      1115\n",
      "weighted avg       0.98      0.98      0.98      1115\n",
      "\n"
     ]
    }
   ],
   "source": [
    "# Train the model\n",
    "print(\"\\nTraining model...\")\n",
    "pipeline.fit(X_train, y_train)\n",
    "\n",
    "# Make predictions\n",
    "y_pred = pipeline.predict(X_test)\n",
    "\n",
    "# Evaluate the model\n",
    "accuracy = accuracy_score(y_test, y_pred)\n",
    "conf_matrix = confusion_matrix(y_test, y_pred)\n",
    "class_report = classification_report(y_test, y_pred)\n",
    "\n",
    "print(f\"\\nModel Accuracy: {accuracy:.4f}\")\n",
    "print(\"\\nConfusion Matrix:\")\n",
    "print(conf_matrix)\n",
    "print(\"\\nClassification Report:\")\n",
    "print(class_report)\n",
    "\n"
   ]
  },
  {
   "cell_type": "code",
   "execution_count": 6,
   "id": "9f2688e6",
   "metadata": {},
   "outputs": [
    {
     "data": {
      "image/png": "[encoded data removed]",
      "text/plain": [
       "<Figure size 600x400 with 2 Axes>"
      ]
     },
     "metadata": {},
     "output_type": "display_data"
    }
   ],
   "source": [
    "# Visualize the confusion matrix\n",
    "plt.figure(figsize=(6, 4))\n",
    "sns.heatmap(conf_matrix, annot=True, fmt='d', cmap='Blues', \n",
    "            xticklabels=['Predicted Ham', 'Predicted Spam'], \n",
    "            yticklabels=['Actual Ham', 'Actual Spam'])\n",
    "plt.title('Confusion Matrix')\n",
    "plt.show()\n",
    "\n"
   ]
  },
  {
   "cell_type": "code",
   "execution_count": 7,
   "id": "72e0d6e7",
   "metadata": {},
   "outputs": [
    {
     "name": "stdout",
     "output_type": "stream",
     "text": [
      "\n",
      "Example predictions:\n",
      "\n",
      "Message: Free entry in 2 a wkly comp to win FA Cup final tkts 21st May 2005. Text FA to 87121 to receive entry question(std txt rate)\n",
      "Prediction: Spam\n",
      "Confidence: 96.83%\n",
      "Probabilities: [Ham: 3.17%, Spam: 96.83%]\n",
      "\n",
      "Message: Nah I don't think he goes to usf, he lives around here though\n",
      "Prediction: Ham\n",
      "Confidence: 98.74%\n",
      "Probabilities: [Ham: 98.74%, Spam: 1.26%]\n",
      "\n",
      "Message: URGENT! You have won a 1 week FREE membership in our £100,000 Prize Jackpot! Txt the word: CLAIM to No: 81010 T&C www.dbuk.net LCCLTD POBOX 4403LDNW1A7RW18\n",
      "Prediction: Spam\n",
      "Confidence: 98.70%\n",
      "Probabilities: [Ham: 1.30%, Spam: 98.70%]\n",
      "\n",
      "Message: I'll call you later\n",
      "Prediction: Ham\n",
      "Confidence: 98.11%\n",
      "Probabilities: [Ham: 98.11%, Spam: 1.89%]\n",
      "\n",
      "Message: Congratulations! You've been selected for a free iPhone! Call now to claim your prize.\n",
      "Prediction: Spam\n",
      "Confidence: 93.54%\n",
      "Probabilities: [Ham: 6.46%, Spam: 93.54%]\n"
     ]
    }
   ],
   "source": [
    "# Example predictions\n",
    "test_messages = [\n",
    "    \"Free entry in 2 a wkly comp to win FA Cup final tkts 21st May 2005. Text FA to 87121 to receive entry question(std txt rate)\",\n",
    "    \"Nah I don't think he goes to usf, he lives around here though\",\n",
    "    \"URGENT! You have won a 1 week FREE membership in our £100,000 Prize Jackpot! Txt the word: CLAIM to No: 81010 T&C www.dbuk.net LCCLTD POBOX 4403LDNW1A7RW18\",\n",
    "    \"I'll call you later\",\n",
    "    \"Congratulations! You've been selected for a free iPhone! Call now to claim your prize.\"\n",
    "]\n",
    "\n",
    "print(\"\\nExample predictions:\")\n",
    "for message in test_messages:\n",
    "    prediction = pipeline.predict([message])[0]\n",
    "    proba = pipeline.predict_proba([message])[0]\n",
    "    print(f\"\\nMessage: {message}\")\n",
    "    print(f\"Prediction: {'Spam' if prediction == 1 else 'Ham'}\")\n",
    "    print(f\"Confidence: {proba[prediction]*100:.2f}%\")\n",
    "    print(f\"Probabilities: [Ham: {proba[0]*100:.2f}%, Spam: {proba[1]*100:.2f}%]\")"
   ]
  }
 ],
 "metadata": {
  "kernelspec": {
   "display_name": "base",
   "language": "python",
   "name": "python3"
  },
  "language_info": {
   "codemirror_mode": {
    "name": "ipython",
    "version": 3
   },
   "file_extension": ".py",
   "mimetype": "text/x-python",
   "name": "python",
   "nbconvert_exporter": "python",
   "pygments_lexer": "ipython3",
   "version": "3.12.7"
  }
 },
 "nbformat": 4,
 "nbformat_minor": 5
}
